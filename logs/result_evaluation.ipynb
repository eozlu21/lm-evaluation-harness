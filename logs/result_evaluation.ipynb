{
 "cells": [
  {
   "cell_type": "code",
   "id": "initial_id",
   "metadata": {
    "collapsed": true,
    "ExecuteTime": {
     "end_time": "2025-04-20T17:36:15.179080Z",
     "start_time": "2025-04-20T17:36:15.156848Z"
    }
   },
   "source": [
    "import json\n",
    "\n",
    "data = []\n",
    "with open(\"microsoft__phi-2/samples_yks_tyt_2024_2025-04-09T02-47-30.106859.jsonl\", \"r\", encoding=\"utf-8\") as f:\n",
    "    for line in f:\n",
    "        data.append(json.loads(line))\n",
    "\n",
    "#data[3]\n"
   ],
   "outputs": [
    {
     "data": {
      "text/plain": [
       "{'doc_id': 3,\n",
       " 'doc': {'question': 'Deyimlerin bir kısmı gözle ilgilidir. Örneğin     \\n gözü ısırmak deyimiyle o kişiyi daha önce görmüş\\n         I\\nolduğumuzu ve tanıdığımızı anlatmak isteriz.           \\n Gözü dönmek deyimi, aşırı istek veya öfke nedeniyle \\n         II\\nkişinin saldıracak duruma gelmesini belirtir.\\n Göz kulak olmak, bir kimseyi veya nesneyi görüp\\n           III\\ngözetmek durumunu belirtir. Gözden düşmek, bir iş         \\n                                                       IV\\nveya durumu dikkatinden kaçırmak eylemini gösterir.     \\n Göz açtırmamak ise birinin bir iş yapmasına fırsat           \\n           V\\nvermemeyi ifade eder.\\n Bu parçada numaralanmış deyimlerden hangisinin\\naçıklaması yanlıştır?',\n",
       "  'choices': ['A)  I', 'B) II', 'C) III', 'D) IV', 'E) V'],\n",
       "  'answer': 'D',\n",
       "  'section': 'TURKCE-TESTI',\n",
       "  'question_number': 4,\n",
       "  'year': '2024',\n",
       "  'exam': 'YKS',\n",
       "  'subtype': 'TYT',\n",
       "  'language': 'tr'},\n",
       " 'target': 'D',\n",
       " 'arguments': {'gen_args_0': {'arg_0': 'Soru: Deyimlerin bir kısmı gözle ilgilidir. Örneğin     \\n gözü ısırmak deyimiyle o kişiyi daha önce görmüş\\n         I\\nolduğumuzu ve tanıdığımızı anlatmak isteriz.           \\n Gözü dönmek deyimi, aşırı istek veya öfke nedeniyle \\n         II\\nkişinin saldıracak duruma gelmesini belirtir.\\n Göz kulak olmak, bir kimseyi veya nesneyi görüp\\n           III\\ngözetmek durumunu belirtir. Gözden düşmek, bir iş         \\n                                                       IV\\nveya durumu dikkatinden kaçırmak eylemini gösterir.     \\n Göz açtırmamak ise birinin bir iş yapmasına fırsat           \\n           V\\nvermemeyi ifade eder.\\n Bu parçada numaralanmış deyimlerden hangisinin\\naçıklaması yanlıştır?\\nA)  I\\nB) II\\nC) III\\nD) IV\\nE) V\\nCevap:',\n",
       "   'arg_1': ' A'},\n",
       "  'gen_args_1': {'arg_0': 'Soru: Deyimlerin bir kısmı gözle ilgilidir. Örneğin     \\n gözü ısırmak deyimiyle o kişiyi daha önce görmüş\\n         I\\nolduğumuzu ve tanıdığımızı anlatmak isteriz.           \\n Gözü dönmek deyimi, aşırı istek veya öfke nedeniyle \\n         II\\nkişinin saldıracak duruma gelmesini belirtir.\\n Göz kulak olmak, bir kimseyi veya nesneyi görüp\\n           III\\ngözetmek durumunu belirtir. Gözden düşmek, bir iş         \\n                                                       IV\\nveya durumu dikkatinden kaçırmak eylemini gösterir.     \\n Göz açtırmamak ise birinin bir iş yapmasına fırsat           \\n           V\\nvermemeyi ifade eder.\\n Bu parçada numaralanmış deyimlerden hangisinin\\naçıklaması yanlıştır?\\nA)  I\\nB) II\\nC) III\\nD) IV\\nE) V\\nCevap:',\n",
       "   'arg_1': ' B'},\n",
       "  'gen_args_2': {'arg_0': 'Soru: Deyimlerin bir kısmı gözle ilgilidir. Örneğin     \\n gözü ısırmak deyimiyle o kişiyi daha önce görmüş\\n         I\\nolduğumuzu ve tanıdığımızı anlatmak isteriz.           \\n Gözü dönmek deyimi, aşırı istek veya öfke nedeniyle \\n         II\\nkişinin saldıracak duruma gelmesini belirtir.\\n Göz kulak olmak, bir kimseyi veya nesneyi görüp\\n           III\\ngözetmek durumunu belirtir. Gözden düşmek, bir iş         \\n                                                       IV\\nveya durumu dikkatinden kaçırmak eylemini gösterir.     \\n Göz açtırmamak ise birinin bir iş yapmasına fırsat           \\n           V\\nvermemeyi ifade eder.\\n Bu parçada numaralanmış deyimlerden hangisinin\\naçıklaması yanlıştır?\\nA)  I\\nB) II\\nC) III\\nD) IV\\nE) V\\nCevap:',\n",
       "   'arg_1': ' C'},\n",
       "  'gen_args_3': {'arg_0': 'Soru: Deyimlerin bir kısmı gözle ilgilidir. Örneğin     \\n gözü ısırmak deyimiyle o kişiyi daha önce görmüş\\n         I\\nolduğumuzu ve tanıdığımızı anlatmak isteriz.           \\n Gözü dönmek deyimi, aşırı istek veya öfke nedeniyle \\n         II\\nkişinin saldıracak duruma gelmesini belirtir.\\n Göz kulak olmak, bir kimseyi veya nesneyi görüp\\n           III\\ngözetmek durumunu belirtir. Gözden düşmek, bir iş         \\n                                                       IV\\nveya durumu dikkatinden kaçırmak eylemini gösterir.     \\n Göz açtırmamak ise birinin bir iş yapmasına fırsat           \\n           V\\nvermemeyi ifade eder.\\n Bu parçada numaralanmış deyimlerden hangisinin\\naçıklaması yanlıştır?\\nA)  I\\nB) II\\nC) III\\nD) IV\\nE) V\\nCevap:',\n",
       "   'arg_1': ' D'},\n",
       "  'gen_args_4': {'arg_0': 'Soru: Deyimlerin bir kısmı gözle ilgilidir. Örneğin     \\n gözü ısırmak deyimiyle o kişiyi daha önce görmüş\\n         I\\nolduğumuzu ve tanıdığımızı anlatmak isteriz.           \\n Gözü dönmek deyimi, aşırı istek veya öfke nedeniyle \\n         II\\nkişinin saldıracak duruma gelmesini belirtir.\\n Göz kulak olmak, bir kimseyi veya nesneyi görüp\\n           III\\ngözetmek durumunu belirtir. Gözden düşmek, bir iş         \\n                                                       IV\\nveya durumu dikkatinden kaçırmak eylemini gösterir.     \\n Göz açtırmamak ise birinin bir iş yapmasına fırsat           \\n           V\\nvermemeyi ifade eder.\\n Bu parçada numaralanmış deyimlerden hangisinin\\naçıklaması yanlıştır?\\nA)  I\\nB) II\\nC) III\\nD) IV\\nE) V\\nCevap:',\n",
       "   'arg_1': ' E'}},\n",
       " 'resps': [[['-2.7314698696136475', 'False']],\n",
       "  [['-2.123741865158081', 'True']],\n",
       "  [['-3.026916265487671', 'False']],\n",
       "  [['-2.8693768978118896', 'False']],\n",
       "  [['-3.3782565593719482', 'False']]],\n",
       " 'filtered_resps': [['-2.7314698696136475', 'False'],\n",
       "  ['-2.123741865158081', 'True'],\n",
       "  ['-3.026916265487671', 'False'],\n",
       "  ['-2.8693768978118896', 'False'],\n",
       "  ['-3.3782565593719482', 'False']],\n",
       " 'filter': 'none',\n",
       " 'metrics': ['acc'],\n",
       " 'doc_hash': '91e416cd61ec3ea7e6c3a84719acec07198923a0a63585023f7f23b59728896b',\n",
       " 'prompt_hash': '438056ae6d151e0e54068042774595a56d4463869b49e3fd3fcf2632f7b03ddc',\n",
       " 'target_hash': '3f39d5c348e5b79d06e842c114e6cc571583bbf44e4b0ebfda1a01ec05745d43',\n",
       " 'acc': 0.0}"
      ]
     },
     "execution_count": 45,
     "metadata": {},
     "output_type": "execute_result"
    }
   ],
   "execution_count": 45
  },
  {
   "metadata": {
    "ExecuteTime": {
     "end_time": "2025-04-20T17:24:13.717031Z",
     "start_time": "2025-04-20T17:24:13.714794Z"
    }
   },
   "cell_type": "code",
   "source": [
    "doc_id_to_section = dict()\n",
    "\n",
    "for datum in data:\n",
    "    question = datum[\"doc\"]\n",
    "    if question[\"section\"] not in doc_id_to_section:\n",
    "        doc_id_to_section[question[\"section\"]] = [datum[\"doc_id\"]]\n",
    "    else:\n",
    "        doc_id_to_section[question[\"section\"]].append(datum[\"doc_id\"])"
   ],
   "id": "7984dde8ca68ed8",
   "outputs": [],
   "execution_count": 43
  },
  {
   "metadata": {
    "ExecuteTime": {
     "end_time": "2025-04-20T17:24:13.733918Z",
     "start_time": "2025-04-20T17:24:13.730012Z"
    }
   },
   "cell_type": "code",
   "source": [
    "section_to_correct_answer_false_answer: dict[str, tuple[int, int]] = {}\n",
    "\n",
    "for datum in data:\n",
    "    question = datum[\"doc\"]\n",
    "    if question[\"section\"] not in section_to_correct_answer_false_answer:\n",
    "        section_to_correct_answer_false_answer[question[\"section\"]] = (0, 0)\n",
    "    current_tuple = section_to_correct_answer_false_answer[question[\"section\"]]\n",
    "    if datum[\"acc\"] == 1.0:\n",
    "        section_to_correct_answer_false_answer[question[\"section\"]] = current_tuple[0] + 1, current_tuple[1]\n",
    "    else:\n",
    "        section_to_correct_answer_false_answer[question[\"section\"]] = current_tuple[0] , current_tuple[1] + 1\n",
    "\n",
    "section_to_correct_answer_false_answer"
   ],
   "id": "8732642232c0af5a",
   "outputs": [
    {
     "data": {
      "text/plain": [
       "{'TURKCE-TESTI': (8, 32),\n",
       " 'SOSYAL-BILIMLER-TESTI': (6, 19),\n",
       " 'TEMEL-MATEMATIK-TESTI': (11, 29),\n",
       " 'FEN-BILIMLERI-TESTI': (2, 18)}"
      ]
     },
     "execution_count": 44,
     "metadata": {},
     "output_type": "execute_result"
    }
   ],
   "execution_count": 44
  },
  {
   "metadata": {
    "ExecuteTime": {
     "end_time": "2025-04-20T17:24:13.746652Z",
     "start_time": "2025-04-20T17:24:13.745106Z"
    }
   },
   "cell_type": "code",
   "source": "",
   "id": "6db599e5bc7b109",
   "outputs": [],
   "execution_count": null
  }
 ],
 "metadata": {
  "kernelspec": {
   "display_name": "Python 3",
   "language": "python",
   "name": "python3"
  },
  "language_info": {
   "codemirror_mode": {
    "name": "ipython",
    "version": 2
   },
   "file_extension": ".py",
   "mimetype": "text/x-python",
   "name": "python",
   "nbconvert_exporter": "python",
   "pygments_lexer": "ipython2",
   "version": "2.7.6"
  }
 },
 "nbformat": 4,
 "nbformat_minor": 5
}

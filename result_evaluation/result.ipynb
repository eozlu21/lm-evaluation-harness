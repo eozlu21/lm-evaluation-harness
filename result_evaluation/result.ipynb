{
 "cells": [
  {
   "cell_type": "markdown",
   "id": "ddd44d18",
   "metadata": {},
   "source": [
    "# Parsing and Analyzing Language Model Evaluation Data\n",
    "\n",
    "@Author Atlas Berk Polat"
   ]
  },
  {
   "cell_type": "code",
   "execution_count": 1,
   "id": "af485a50",
   "metadata": {},
   "outputs": [],
   "source": [
    "# Import necessary libraries\n",
    "import pandas as pd\n",
    "import json\n",
    "import numpy as np\n",
    "import matplotlib.pyplot as plt"
   ]
  },
  {
   "cell_type": "markdown",
   "id": "9d3cc58d",
   "metadata": {},
   "source": [
    "## Loading the JSON Data\n",
    "\n",
    "We'll read the data from the JSONL file and parse each line as a separate JSON object."
   ]
  },
  {
   "cell_type": "code",
   "execution_count": 10,
   "id": "8c732bf4",
   "metadata": {},
   "outputs": [
    {
     "name": "stdout",
     "output_type": "stream",
     "text": [
      "Successfully loaded 291 records from the JSONL file.\n",
      "Successfully loaded 291 records from the JSONL file.\n"
     ]
    }
   ],
   "source": [
    "# Path to the JSONL file\n",
    "jsonl_path_list = ['samples_yks_2024_2025-05-06T12-46-26.910120.jsonl',\n",
    "                     'samples_yks_2024_2025-05-06T13-25-36.676765.jsonl']\n",
    "\n",
    "# Initialize an empty list to store the parsed data\n",
    "\n",
    "big_data_list = []\n",
    " \n",
    "for jsonl_path in jsonl_path_list:\n",
    "\n",
    "\n",
    "    # Read the JSONL file and parse each line\n",
    "    with open(jsonl_path, 'r', encoding='utf-8') as file:\n",
    "        for line in file:\n",
    "            try:\n",
    "                # Parse each line as a JSON object\n",
    "                data = json.loads(line.strip())\n",
    "                data[\"file_name\"] = jsonl_path\n",
    "                big_data_list.append(data)\n",
    "            except json.JSONDecodeError as e:\n",
    "                print(f\"Error decoding JSON: {e}\")\n",
    "\n",
    "    print(f\"Successfully loaded {len(data_list)} records from the JSONL file.\")\n",
    "\n",
    "    \n",
    "\n"
   ]
  },
  {
   "cell_type": "markdown",
   "id": "2ca333c8",
   "metadata": {},
   "source": [
    "## Converting to DataFrame\n",
    "\n"
   ]
  },
  {
   "cell_type": "code",
   "execution_count": 12,
   "id": "6b078c7b",
   "metadata": {},
   "outputs": [
    {
     "data": {
      "application/vnd.microsoft.datawrangler.viewer.v0+json": {
       "columns": [
        {
         "name": "index",
         "rawType": "int64",
         "type": "integer"
        },
        {
         "name": "file_name",
         "rawType": "object",
         "type": "string"
        },
        {
         "name": "doc_id",
         "rawType": "int64",
         "type": "integer"
        },
        {
         "name": "section",
         "rawType": "object",
         "type": "string"
        },
        {
         "name": "question_number",
         "rawType": "int64",
         "type": "integer"
        },
        {
         "name": "has_image",
         "rawType": "bool",
         "type": "boolean"
        },
        {
         "name": "target",
         "rawType": "object",
         "type": "string"
        },
        {
         "name": "acc",
         "rawType": "float64",
         "type": "float"
        }
       ],
       "conversionMethod": "pd.DataFrame",
       "ref": "1b4ee458-c450-4a0e-8de9-decff105b8a0",
       "rows": [
        [
         "0",
         "samples_yks_2024_2025-05-06T12-46-26.910120.jsonl",
         "0",
         "TURK-DILI-VE-EDEBIYATI-SOSYAL-BILIMLER-1-TESTI",
         "1",
         "False",
         "1",
         "1.0"
        ],
        [
         "1",
         "samples_yks_2024_2025-05-06T12-46-26.910120.jsonl",
         "1",
         "TURK-DILI-VE-EDEBIYATI-SOSYAL-BILIMLER-1-TESTI",
         "2",
         "False",
         "4",
         "1.0"
        ],
        [
         "2",
         "samples_yks_2024_2025-05-06T12-46-26.910120.jsonl",
         "2",
         "TURK-DILI-VE-EDEBIYATI-SOSYAL-BILIMLER-1-TESTI",
         "3",
         "False",
         "1",
         "1.0"
        ],
        [
         "3",
         "samples_yks_2024_2025-05-06T12-46-26.910120.jsonl",
         "3",
         "TURK-DILI-VE-EDEBIYATI-SOSYAL-BILIMLER-1-TESTI",
         "4",
         "False",
         "3",
         "1.0"
        ],
        [
         "4",
         "samples_yks_2024_2025-05-06T12-46-26.910120.jsonl",
         "4",
         "TURK-DILI-VE-EDEBIYATI-SOSYAL-BILIMLER-1-TESTI",
         "5",
         "False",
         "2",
         "1.0"
        ]
       ],
       "shape": {
        "columns": 7,
        "rows": 5
       }
      },
      "text/html": [
       "<div>\n",
       "<style scoped>\n",
       "    .dataframe tbody tr th:only-of-type {\n",
       "        vertical-align: middle;\n",
       "    }\n",
       "\n",
       "    .dataframe tbody tr th {\n",
       "        vertical-align: top;\n",
       "    }\n",
       "\n",
       "    .dataframe thead th {\n",
       "        text-align: right;\n",
       "    }\n",
       "</style>\n",
       "<table border=\"1\" class=\"dataframe\">\n",
       "  <thead>\n",
       "    <tr style=\"text-align: right;\">\n",
       "      <th></th>\n",
       "      <th>file_name</th>\n",
       "      <th>doc_id</th>\n",
       "      <th>section</th>\n",
       "      <th>question_number</th>\n",
       "      <th>has_image</th>\n",
       "      <th>target</th>\n",
       "      <th>acc</th>\n",
       "    </tr>\n",
       "  </thead>\n",
       "  <tbody>\n",
       "    <tr>\n",
       "      <th>0</th>\n",
       "      <td>samples_yks_2024_2025-05-06T12-46-26.910120.jsonl</td>\n",
       "      <td>0</td>\n",
       "      <td>TURK-DILI-VE-EDEBIYATI-SOSYAL-BILIMLER-1-TESTI</td>\n",
       "      <td>1</td>\n",
       "      <td>False</td>\n",
       "      <td>1</td>\n",
       "      <td>1.0</td>\n",
       "    </tr>\n",
       "    <tr>\n",
       "      <th>1</th>\n",
       "      <td>samples_yks_2024_2025-05-06T12-46-26.910120.jsonl</td>\n",
       "      <td>1</td>\n",
       "      <td>TURK-DILI-VE-EDEBIYATI-SOSYAL-BILIMLER-1-TESTI</td>\n",
       "      <td>2</td>\n",
       "      <td>False</td>\n",
       "      <td>4</td>\n",
       "      <td>1.0</td>\n",
       "    </tr>\n",
       "    <tr>\n",
       "      <th>2</th>\n",
       "      <td>samples_yks_2024_2025-05-06T12-46-26.910120.jsonl</td>\n",
       "      <td>2</td>\n",
       "      <td>TURK-DILI-VE-EDEBIYATI-SOSYAL-BILIMLER-1-TESTI</td>\n",
       "      <td>3</td>\n",
       "      <td>False</td>\n",
       "      <td>1</td>\n",
       "      <td>1.0</td>\n",
       "    </tr>\n",
       "    <tr>\n",
       "      <th>3</th>\n",
       "      <td>samples_yks_2024_2025-05-06T12-46-26.910120.jsonl</td>\n",
       "      <td>3</td>\n",
       "      <td>TURK-DILI-VE-EDEBIYATI-SOSYAL-BILIMLER-1-TESTI</td>\n",
       "      <td>4</td>\n",
       "      <td>False</td>\n",
       "      <td>3</td>\n",
       "      <td>1.0</td>\n",
       "    </tr>\n",
       "    <tr>\n",
       "      <th>4</th>\n",
       "      <td>samples_yks_2024_2025-05-06T12-46-26.910120.jsonl</td>\n",
       "      <td>4</td>\n",
       "      <td>TURK-DILI-VE-EDEBIYATI-SOSYAL-BILIMLER-1-TESTI</td>\n",
       "      <td>5</td>\n",
       "      <td>False</td>\n",
       "      <td>2</td>\n",
       "      <td>1.0</td>\n",
       "    </tr>\n",
       "  </tbody>\n",
       "</table>\n",
       "</div>"
      ],
      "text/plain": [
       "                                           file_name  doc_id  \\\n",
       "0  samples_yks_2024_2025-05-06T12-46-26.910120.jsonl       0   \n",
       "1  samples_yks_2024_2025-05-06T12-46-26.910120.jsonl       1   \n",
       "2  samples_yks_2024_2025-05-06T12-46-26.910120.jsonl       2   \n",
       "3  samples_yks_2024_2025-05-06T12-46-26.910120.jsonl       3   \n",
       "4  samples_yks_2024_2025-05-06T12-46-26.910120.jsonl       4   \n",
       "\n",
       "                                          section  question_number  has_image  \\\n",
       "0  TURK-DILI-VE-EDEBIYATI-SOSYAL-BILIMLER-1-TESTI                1      False   \n",
       "1  TURK-DILI-VE-EDEBIYATI-SOSYAL-BILIMLER-1-TESTI                2      False   \n",
       "2  TURK-DILI-VE-EDEBIYATI-SOSYAL-BILIMLER-1-TESTI                3      False   \n",
       "3  TURK-DILI-VE-EDEBIYATI-SOSYAL-BILIMLER-1-TESTI                4      False   \n",
       "4  TURK-DILI-VE-EDEBIYATI-SOSYAL-BILIMLER-1-TESTI                5      False   \n",
       "\n",
       "  target  acc  \n",
       "0      1  1.0  \n",
       "1      4  1.0  \n",
       "2      1  1.0  \n",
       "3      3  1.0  \n",
       "4      2  1.0  "
      ]
     },
     "execution_count": 12,
     "metadata": {},
     "output_type": "execute_result"
    }
   ],
   "source": [
    "# Function to flatten the nested structure\n",
    "def flatten_data(data_item):\n",
    "    flattened = {\n",
    "        'file_name': data_item.get('file_name'),\n",
    "        'doc_id': data_item.get('doc_id'),\n",
    "        'section': data_item.get('doc', {}).get('section'),\n",
    "        'question_number': data_item.get('doc', {}).get('question_number'),\n",
    "        #'page': data_item.get('data').get('doc', {}).get('page'),\n",
    "        #'question': data_item.get('doc', {}).get('question'),\n",
    "        'has_image': data_item.get('doc', {}).get('has_image'),\n",
    "        #'passage': data_item.get('doc', {}).get('passage'),\n",
    "        'target': data_item.get('target'),\n",
    "        'acc': data_item.get('acc'),\n",
    "    }\n",
    "    \n",
    "\n",
    "\n",
    "    \n",
    "    return flattened\n",
    "\n",
    "# Flatten each item in the list\n",
    "flattened_data = [flatten_data(item) for item in big_data_list ]\n",
    "\n",
    "# Create a DataFrame\n",
    "df = pd.DataFrame(flattened_data)\n",
    "\n",
    "# Display the first few rows\n",
    "df.head()"
   ]
  },
  {
   "cell_type": "markdown",
   "id": "17aa1e62",
   "metadata": {},
   "source": [
    "Choosing questions with no images"
   ]
  },
  {
   "cell_type": "code",
   "execution_count": 17,
   "id": "a5e49902",
   "metadata": {},
   "outputs": [
    {
     "data": {
      "application/vnd.microsoft.datawrangler.viewer.v0+json": {
       "columns": [
        {
         "name": "index",
         "rawType": "object",
         "type": "string"
        },
        {
         "name": "doc_id",
         "rawType": "float64",
         "type": "float"
        },
        {
         "name": "question_number",
         "rawType": "float64",
         "type": "float"
        },
        {
         "name": "acc",
         "rawType": "float64",
         "type": "float"
        }
       ],
       "conversionMethod": "pd.DataFrame",
       "ref": "0e889783-e9eb-4a72-9f26-52c6ca6ed86e",
       "rows": [
        [
         "count",
         "452.0",
         "452.0",
         "452.0"
        ],
        [
         "mean",
         "134.5",
         "19.672566371681416",
         "0.6858407079646017"
        ],
        [
         "std",
         "82.70296541119235",
         "11.686930542514697",
         "0.4646944983395874"
        ],
        [
         "min",
         "0.0",
         "1.0",
         "0.0"
        ],
        [
         "25%",
         "63.0",
         "10.0",
         "0.0"
        ],
        [
         "50%",
         "138.5",
         "19.0",
         "1.0"
        ],
        [
         "75%",
         "202.0",
         "29.0",
         "1.0"
        ],
        [
         "max",
         "288.0",
         "46.0",
         "1.0"
        ]
       ],
       "shape": {
        "columns": 3,
        "rows": 8
       }
      },
      "text/html": [
       "<div>\n",
       "<style scoped>\n",
       "    .dataframe tbody tr th:only-of-type {\n",
       "        vertical-align: middle;\n",
       "    }\n",
       "\n",
       "    .dataframe tbody tr th {\n",
       "        vertical-align: top;\n",
       "    }\n",
       "\n",
       "    .dataframe thead th {\n",
       "        text-align: right;\n",
       "    }\n",
       "</style>\n",
       "<table border=\"1\" class=\"dataframe\">\n",
       "  <thead>\n",
       "    <tr style=\"text-align: right;\">\n",
       "      <th></th>\n",
       "      <th>doc_id</th>\n",
       "      <th>question_number</th>\n",
       "      <th>acc</th>\n",
       "    </tr>\n",
       "  </thead>\n",
       "  <tbody>\n",
       "    <tr>\n",
       "      <th>count</th>\n",
       "      <td>452.000000</td>\n",
       "      <td>452.000000</td>\n",
       "      <td>452.000000</td>\n",
       "    </tr>\n",
       "    <tr>\n",
       "      <th>mean</th>\n",
       "      <td>134.500000</td>\n",
       "      <td>19.672566</td>\n",
       "      <td>0.685841</td>\n",
       "    </tr>\n",
       "    <tr>\n",
       "      <th>std</th>\n",
       "      <td>82.702965</td>\n",
       "      <td>11.686931</td>\n",
       "      <td>0.464694</td>\n",
       "    </tr>\n",
       "    <tr>\n",
       "      <th>min</th>\n",
       "      <td>0.000000</td>\n",
       "      <td>1.000000</td>\n",
       "      <td>0.000000</td>\n",
       "    </tr>\n",
       "    <tr>\n",
       "      <th>25%</th>\n",
       "      <td>63.000000</td>\n",
       "      <td>10.000000</td>\n",
       "      <td>0.000000</td>\n",
       "    </tr>\n",
       "    <tr>\n",
       "      <th>50%</th>\n",
       "      <td>138.500000</td>\n",
       "      <td>19.000000</td>\n",
       "      <td>1.000000</td>\n",
       "    </tr>\n",
       "    <tr>\n",
       "      <th>75%</th>\n",
       "      <td>202.000000</td>\n",
       "      <td>29.000000</td>\n",
       "      <td>1.000000</td>\n",
       "    </tr>\n",
       "    <tr>\n",
       "      <th>max</th>\n",
       "      <td>288.000000</td>\n",
       "      <td>46.000000</td>\n",
       "      <td>1.000000</td>\n",
       "    </tr>\n",
       "  </tbody>\n",
       "</table>\n",
       "</div>"
      ],
      "text/plain": [
       "           doc_id  question_number         acc\n",
       "count  452.000000       452.000000  452.000000\n",
       "mean   134.500000        19.672566    0.685841\n",
       "std     82.702965        11.686931    0.464694\n",
       "min      0.000000         1.000000    0.000000\n",
       "25%     63.000000        10.000000    0.000000\n",
       "50%    138.500000        19.000000    1.000000\n",
       "75%    202.000000        29.000000    1.000000\n",
       "max    288.000000        46.000000    1.000000"
      ]
     },
     "execution_count": 17,
     "metadata": {},
     "output_type": "execute_result"
    }
   ],
   "source": [
    "question_without_image = df[(df['has_image'] == False)]\n",
    "\n",
    "question_without_image.describe()"
   ]
  },
  {
   "cell_type": "code",
   "execution_count": 29,
   "id": "9268b30e",
   "metadata": {},
   "outputs": [
    {
     "data": {
      "image/png": "[encoded data removed]",
      "text/plain": [
       "<Figure size 1000x600 with 1 Axes>"
      ]
     },
     "metadata": {},
     "output_type": "display_data"
    }
   ],
   "source": [
    "df.groupby('section')['acc'].mean().plot(kind='bar', figsize=(10, 6), title='Accuracy by Section')\n",
    "\n",
    "# Add value labels on top of bars\n",
    "for i, v in enumerate(df.groupby('section')['acc'].mean()):\n",
    "    plt.text(i, v + 0.02, f'{v:.2f}', ha='center')\n",
    "\n",
    "plt.ylabel('Accuracy')\n",
    "\n",
    "plt.xlabel('Section')\n",
    "\n",
    "plt.xticks(rotation=45, ha='right')\n",
    "\n",
    "plt.tight_layout()\n",
    "plt.show()\n"
   ]
  }
 ],
 "metadata": {
  "kernelspec": {
   "display_name": "ML_env",
   "language": "python",
   "name": "python3"
  },
  "language_info": {
   "codemirror_mode": {
    "name": "ipython",
    "version": 3
   },
   "file_extension": ".py",
   "mimetype": "text/x-python",
   "name": "python",
   "nbconvert_exporter": "python",
   "pygments_lexer": "ipython3",
   "version": "3.12.7"
  }
 },
 "nbformat": 4,
 "nbformat_minor": 5
}
